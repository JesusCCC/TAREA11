{
  "nbformat": 4,
  "nbformat_minor": 0,
  "metadata": {
    "colab": {
      "name": "arboles_1310",
      "provenance": [],
      "collapsed_sections": []
    },
    "kernelspec": {
      "name": "python3",
      "display_name": "Python 3"
    },
    "language_info": {
      "name": "python"
    }
  },
  "cells": [
    {
      "cell_type": "code",
      "metadata": {
        "id": "9oqTivVNKgOr"
      },
      "source": [
        "class NodoBinario:\n",
        "    def __init__(self, value, left = None, right = None):\n",
        "        self.data = value\n",
        "        self.left = left\n",
        "        self.right = right\n",
        "\n",
        "class NodoTernario:\n",
        "    def __init__(self, value, left = None, right = None, center = None):\n",
        "        self.data = value\n",
        "        self.left = left\n",
        "        self.center = center\n",
        "        self.right = right"
      ],
      "execution_count": 14,
      "outputs": []
    },
    {
      "cell_type": "code",
      "metadata": {
        "id": "LpNzrvbcJ7lx",
        "colab": {
          "base_uri": "https://localhost:8080/"
        },
        "outputId": "446eb622-e65c-44e1-9107-c68da9293241"
      },
      "source": [
        "arbol1 = NodoBinario(\"R\", NodoBinario(\"C\"), NodoBinario (\"H\"))\n",
        "print(arbol1.right.data)\n",
        "\n",
        "arbol2 = NodoTernario(4, NodoTernario(3, NodoTernario(5, left = NodoTernario(2)), NodoTernario(5),NodoTernario(2)), None ,NodoTernario(5))\n",
        "print(arbol2.left.right.data)\n",
        "print(arbol2.data)\n",
        "print(arbol2.left.center.data)\n",
        "\n",
        "#print(arbol2.left.left.left.data)\n",
        "\n",
        "print(arbol2.left.center.data)\n",
        "print(arbol2.left.right.data)\n",
        "print(arbol2.left.left.left.data)\n",
        "print(\"---- sin usar la palabra left en el print ----\")\n",
        "ejemplo = arbol2.left.left.left.data\n",
        "print(ejemplo)\n",
        "print(\"---- otra forma? ----\")\n",
        "aux = arbol2\n",
        "while(aux.left != None):\n",
        "    aux = aux.left\n",
        "print(aux.data)"
      ],
      "execution_count": 15,
      "outputs": [
        {
          "output_type": "stream",
          "name": "stdout",
          "text": [
            "H\n",
            "5\n",
            "4\n",
            "2\n",
            "2\n",
            "5\n",
            "2\n",
            "---- sin usar la palabra left en el print ----\n",
            "2\n",
            "---- otra forma? ----\n",
            "2\n"
          ]
        }
      ]
    },
    {
      "cell_type": "code",
      "metadata": {
        "id": "z7F1DcRdIwsB",
        "colab": {
          "base_uri": "https://localhost:8080/"
        },
        "outputId": "68dd08de-9524-41e1-81da-efab22ad0d81"
      },
      "source": [
        "root = NodoBinario(\"Santi\",None,NodoBinario(\"Jesus\",NodoBinario(\"Pedro\",None,NodoBinario(\"Pedro jr\"))))\n",
        "print(root.right.left.right.data)"
      ],
      "execution_count": 16,
      "outputs": [
        {
          "output_type": "stream",
          "name": "stdout",
          "text": [
            "Pedro jr\n"
          ]
        }
      ]
    },
    {
      "cell_type": "code",
      "metadata": {
        "id": "eGSriWz6NRQ6"
      },
      "source": [
        "class BinaryNode:\n",
        "    def __init__( self , value , left=None , rigth= None ):\n",
        "        self.data = value\n",
        "        self.left = left\n",
        "        self.rigth = rigth\n",
        "\n",
        "class BinarySearchTree:\n",
        "    def __init__( self ):\n",
        "        self.root = None\n",
        "    \n",
        "    def insert( self , value ):\n",
        "        if self.root == None:\n",
        "            self.root = BinaryNode( value )\n",
        "        else:\n",
        "            self.__insert_nodo( self.root , value )\n",
        "        \n",
        "    def __insert_nodo(self , nodo , value ):\n",
        "        if nodo.data == value: \n",
        "            pass\n",
        "        elif value < nodo.data:# ir a la izq\n",
        "            if nodo.left == None:\n",
        "                nodo.left = BinaryNode( value )\n",
        "            else:\n",
        "                self.__insert_nodo( nodo.left , value )\n",
        "        else:  # ir a la derecha\n",
        "            if nodo.rigth == None:\n",
        "                nodo.rigth = BinaryNode( value )\n",
        "            else:\n",
        "                self.__insert_nodo( nodo.rigth , value )\n",
        "    \n",
        "    def transversal( self , formato = \"posorden\"):\n",
        "        if formato == \"posorden\":\n",
        "            self.recorrido_pos( self.root )\n",
        "        elif formato == \"preorden\":\n",
        "            self.recorrido_pre(self.root )\n",
        "        else: # inorden\n",
        "            self.recorrido_in( self.root )\n",
        "        print()\n",
        "\n",
        "    def  recorrido_pos( self , nodo ):\n",
        "        if nodo != None:\n",
        "            self.recorrido_pos( nodo.left )\n",
        "            self.recorrido_pos( nodo.rigth )\n",
        "            print( str(nodo.data) , end=\" , \" )\n",
        "    \n",
        "    def  recorrido_pre( self , nodo ):\n",
        "        if nodo != None:\n",
        "            print( str(nodo.data) , end=\" , \" )\n",
        "            self.recorrido_pre( nodo.left )\n",
        "            self.recorrido_pre( nodo.rigth )\n",
        "    \n",
        "    def  recorrido_in( self , nodo ):\n",
        "        if nodo != None:\n",
        "            self.recorrido_in( nodo.left )\n",
        "            print( str(nodo.data) , end=\" , \" )\n",
        "            self.recorrido_in( nodo.rigth ) \n",
        "\n",
        "    def search( self , value ):\n",
        "        if self.root == None:\n",
        "            print(\"El árbol está vacío\")\n",
        "            return None\n",
        "        else:\n",
        "            return self.__search( self.root , value )\n",
        "\n",
        "    def __search( self , nodo , value ):\n",
        "        if nodo == None:\n",
        "            print(\"El dato no existe en el árbol\") \n",
        "            return None\n",
        "        elif nodo.data == value:\n",
        "            print(\"Encontrado\", nodo.data)\n",
        "            return nodo\n",
        "        elif value < nodo.data:\n",
        "            return self.__search( nodo.left , value  )\n",
        "        else:\n",
        "            return self.__search( nodo.rigth , value  )  "
      ],
      "execution_count": 17,
      "outputs": []
    },
    {
      "cell_type": "code",
      "metadata": {
        "id": "OPGit_OXDF8C",
        "colab": {
          "base_uri": "https://localhost:8080/"
        },
        "outputId": "059fc21f-e127-467b-94c1-bdbf15a38156"
      },
      "source": [
        "arbol = BinarySearchTree()\n",
        "arbol.insert(60)\n",
        "arbol.insert(30)\n",
        "arbol.insert(15)\n",
        "arbol.insert(40)\n",
        "arbol.transversal()\n",
        "arbol.transversal('postorden')\n",
        "arbol.transversal('preorden')\n",
        "arbol.transversal('inorden')"
      ],
      "execution_count": 18,
      "outputs": [
        {
          "output_type": "stream",
          "name": "stdout",
          "text": [
            "15 , 40 , 30 , 60 , \n",
            "15 , 30 , 40 , 60 , \n",
            "60 , 30 , 15 , 40 , \n",
            "15 , 30 , 40 , 60 , \n"
          ]
        }
      ]
    },
    {
      "cell_type": "code",
      "source": [
        "class BinaryNode:\n",
        "    def __init__( self, value, left=None, rigth= None ):\n",
        "        self.data = value\n",
        "        self.left = left\n",
        "        self.rigth = rigth\n",
        "\n",
        "class BinarySearchTree:\n",
        "    def __init__( self ):\n",
        "        self.root = None\n",
        "    \n",
        "    def insert( self, value ):\n",
        "        if self.root == None:\n",
        "            self.root = BinaryNode( value )\n",
        "        else:\n",
        "            self.__insert_nodo( self.root, value )\n",
        "        \n",
        "    def __insert_nodo(self, nodo, value ):\n",
        "        if nodo.data == value: \n",
        "            pass\n",
        "        elif value < nodo.data: #ir a la izquierda\n",
        "            if nodo.left == None:\n",
        "                nodo.left = BinaryNode( value )\n",
        "            else:\n",
        "                self.__insert_nodo( nodo.left, value )\n",
        "        else:  #ir a la derecha\n",
        "            if nodo.rigth == None:\n",
        "                nodo.rigth = BinaryNode( value )\n",
        "            else:\n",
        "                self.__insert_nodo( nodo.rigth, value )\n",
        "    \n",
        "    def transversal( self , formato = \"posorden\"):\n",
        "        if formato == \"posorden\":\n",
        "            self.recorrido_pos( self.root )\n",
        "        elif formato == \"preorden\":\n",
        "            self.recorrido_pre(self.root )\n",
        "        else: #inorden\n",
        "            self.recorrido_in( self.root )\n",
        "        print()\n",
        "\n",
        "    def  recorrido_pos( self, nodo ):\n",
        "        if nodo != None:\n",
        "            self.recorrido_pos( nodo.left )\n",
        "            self.recorrido_pos( nodo.rigth )\n",
        "            print( str(nodo.data), end=\" , \" )\n",
        "    \n",
        "    def  recorrido_pre( self, nodo ):\n",
        "        if nodo != None:\n",
        "            print( str(nodo.data), end=\" , \" )\n",
        "            self.recorrido_pre( nodo.left )\n",
        "            self.recorrido_pre( nodo.rigth )\n",
        "    \n",
        "    def  recorrido_in( self, nodo ):\n",
        "        if nodo != None:\n",
        "            self.recorrido_in( nodo.left )\n",
        "            print( str(nodo.data), end=\" , \" )\n",
        "            self.recorrido_in( nodo.rigth ) \n",
        "\n",
        "    def search( self, value ):\n",
        "        if self.root == None:\n",
        "            print(\"El árbol está vacío\")\n",
        "            return None\n",
        "        else:\n",
        "            return self.__search( self.root, value )\n",
        "\n",
        "    def __search( self, nodo, value ):\n",
        "        if nodo == None:\n",
        "            print(\"El dato no existe en el árbol\") \n",
        "            return None\n",
        "        elif nodo.data == value:\n",
        "            print(\"Encontrado\", nodo.data)\n",
        "            return nodo\n",
        "        elif value < nodo.data:\n",
        "            return self.__search( nodo.left, value  )\n",
        "        else:\n",
        "            return self.__search( nodo.rigth, value  )  \n",
        "\n",
        "    def remove(self,value):\n",
        "        if self.root == None:\n",
        "            print(\"árbol vacío\")\n",
        "            return None\n",
        "        else:\n",
        "            if self.root==value:\n",
        "                pass\n",
        "            else :\n",
        "                self.__remove(self.root,value)\n",
        "\n",
        "    def __remove(self, nodo, value):\n",
        "        if nodo == None:\n",
        "            print(\"no existe en el árbol\") \n",
        "        elif nodo.data == value:\n",
        "            if nodo.left == None and nodo.rigth == None:\n",
        "                nodo = None\n",
        "            elif nodo.left != None and nodo.rigth == None:\n",
        "                nodo = nodo.left\n",
        "                nodo.left = None\n",
        "            elif nodo.left == None and nodo.rigth != None:\n",
        "                nodo = nodo.rigth\n",
        "                nodo.rigth = None\n",
        "            elif nodo.left != None and nodo.rigth != None:\n",
        "                nodo = nodo.left\n",
        "                nodo.left = nodo.left.left\n",
        "        elif value<nodo.data:\n",
        "            return self.__remove(nodo.left,value)\n",
        "        else:\n",
        "            return self.__remove(nodo.rigth,value)"
      ],
      "metadata": {
        "id": "6fm-fZ_asazN"
      },
      "execution_count": 19,
      "outputs": []
    },
    {
      "cell_type": "code",
      "source": [
        "arbl = BinarySearchTree()\n",
        "arbl.insert(30)\n",
        "arbl.insert(15)\n",
        "arbl.insert(45)\n",
        "arbl.insert(12)\n",
        "arbl.insert(17)\n",
        "arbl.insert(50)\n",
        "arbl.insert(55)\n",
        "arbl.insert(35)\n",
        "arbl.insert(2)\n",
        "arbl.insert(1)\n",
        "arbl.insert(80)\n",
        "arbl.insert(60)\n",
        "arbl.transversal()\n",
        "arbl.transversal(\"posorden\")\n",
        "arbl.transversal(\"preorden\")\n",
        "arbl.transversal(\"inorden\")\n",
        "\n",
        "res = arbl.search(45)\n",
        "print(res)\n",
        "print(res.left.data)\n",
        "\n",
        "arbl.remove(50)\n",
        "arbl.transversal(\"inorden\")"
      ],
      "metadata": {
        "colab": {
          "base_uri": "https://localhost:8080/"
        },
        "id": "PuySeQLwsfIw",
        "outputId": "5d675fcc-6962-44d9-97e0-14ea1e657e5f"
      },
      "execution_count": 20,
      "outputs": [
        {
          "output_type": "stream",
          "name": "stdout",
          "text": [
            "1 , 2 , 12 , 17 , 15 , 35 , 60 , 80 , 55 , 50 , 45 , 30 , \n",
            "1 , 2 , 12 , 17 , 15 , 35 , 60 , 80 , 55 , 50 , 45 , 30 , \n",
            "30 , 15 , 12 , 2 , 1 , 17 , 45 , 35 , 50 , 55 , 80 , 60 , \n",
            "1 , 2 , 12 , 15 , 17 , 30 , 35 , 45 , 50 , 55 , 60 , 80 , \n",
            "Encontrado 45\n",
            "<__main__.BinaryNode object at 0x7f11e6c3a8d0>\n",
            "35\n",
            "1 , 2 , 12 , 15 , 17 , 30 , 35 , 45 , 50 , 55 , \n"
          ]
        }
      ]
    }
  ]
}